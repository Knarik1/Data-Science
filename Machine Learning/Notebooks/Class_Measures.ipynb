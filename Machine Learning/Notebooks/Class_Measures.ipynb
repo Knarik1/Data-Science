{
 "cells": [
  {
   "cell_type": "markdown",
   "metadata": {},
   "source": [
    "# Logistic Regression"
   ]
  },
  {
   "cell_type": "code",
   "execution_count": 1,
   "metadata": {
    "collapsed": true
   },
   "outputs": [],
   "source": [
    "import numpy as np\n",
    "import pandas as pd\n",
    "import matplotlib.pyplot as plt\n",
    "import seaborn as sns\n",
    "\n",
    "import sklearn.linear_model as skl_lm\n",
    "from sklearn.discriminant_analysis import LinearDiscriminantAnalysis\n",
    "from sklearn.discriminant_analysis import QuadraticDiscriminantAnalysis\n",
    "from sklearn.metrics import auc, confusion_matrix, classification_report, precision_score, roc_curve, roc_auc_score, precision_recall_curve, average_precision_score\n",
    "from sklearn import preprocessing\n",
    "from sklearn import neighbors\n",
    "from sklearn.utils.multiclass import unique_labels"
   ]
  },
  {
   "cell_type": "code",
   "execution_count": 4,
   "metadata": {},
   "outputs": [
    {
     "data": {
      "text/html": [
       "<div>\n",
       "<style>\n",
       "    .dataframe thead tr:only-child th {\n",
       "        text-align: right;\n",
       "    }\n",
       "\n",
       "    .dataframe thead th {\n",
       "        text-align: left;\n",
       "    }\n",
       "\n",
       "    .dataframe tbody tr th {\n",
       "        vertical-align: top;\n",
       "    }\n",
       "</style>\n",
       "<table border=\"1\" class=\"dataframe\">\n",
       "  <thead>\n",
       "    <tr style=\"text-align: right;\">\n",
       "      <th></th>\n",
       "      <th>default</th>\n",
       "      <th>student</th>\n",
       "      <th>balance</th>\n",
       "      <th>income</th>\n",
       "    </tr>\n",
       "  </thead>\n",
       "  <tbody>\n",
       "    <tr>\n",
       "      <th>0</th>\n",
       "      <td>No</td>\n",
       "      <td>No</td>\n",
       "      <td>729.526495</td>\n",
       "      <td>44361.62507</td>\n",
       "    </tr>\n",
       "    <tr>\n",
       "      <th>1</th>\n",
       "      <td>No</td>\n",
       "      <td>Yes</td>\n",
       "      <td>817.180407</td>\n",
       "      <td>12106.13470</td>\n",
       "    </tr>\n",
       "    <tr>\n",
       "      <th>2</th>\n",
       "      <td>No</td>\n",
       "      <td>No</td>\n",
       "      <td>1073.549164</td>\n",
       "      <td>31767.13895</td>\n",
       "    </tr>\n",
       "    <tr>\n",
       "      <th>3</th>\n",
       "      <td>No</td>\n",
       "      <td>No</td>\n",
       "      <td>529.250605</td>\n",
       "      <td>35704.49394</td>\n",
       "    </tr>\n",
       "    <tr>\n",
       "      <th>4</th>\n",
       "      <td>No</td>\n",
       "      <td>No</td>\n",
       "      <td>785.655883</td>\n",
       "      <td>38463.49588</td>\n",
       "    </tr>\n",
       "  </tbody>\n",
       "</table>\n",
       "</div>"
      ],
      "text/plain": [
       "  default student      balance       income\n",
       "0      No      No   729.526495  44361.62507\n",
       "1      No     Yes   817.180407  12106.13470\n",
       "2      No      No  1073.549164  31767.13895\n",
       "3      No      No   529.250605  35704.49394\n",
       "4      No      No   785.655883  38463.49588"
      ]
     },
     "execution_count": 4,
     "metadata": {},
     "output_type": "execute_result"
    }
   ],
   "source": [
    "data_default = pd.read_csv(\"C:\\\\Users\\\\apoghosyan\\\\Dropbox\\\\YSU_ML\\\\ISLR_Data\\\\default.csv\", usecols = [1,2,3,4])\n",
    "data_default.head(5)"
   ]
  },
  {
   "cell_type": "code",
   "execution_count": 5,
   "metadata": {},
   "outputs": [
    {
     "name": "stdout",
     "output_type": "stream",
     "text": [
      "       balance       income  default_Yes  student_Yes\n",
      "0   729.526495  44361.62507            0            0\n",
      "1   817.180407  12106.13470            0            1\n",
      "2  1073.549164  31767.13895            0            0\n",
      "3   529.250605  35704.49394            0            0\n",
      "4   785.655883  38463.49588            0            0\n"
     ]
    },
    {
     "data": {
      "text/plain": [
       "(array([0, 1], dtype=uint8), array([9667,  333], dtype=int64))"
      ]
     },
     "execution_count": 5,
     "metadata": {},
     "output_type": "execute_result"
    }
   ],
   "source": [
    "data_default_dummies = pd.get_dummies(data_default, drop_first = True)\n",
    "print(data_default_dummies.head(5))\n",
    "np.unique(data_default_dummies.default_Yes, return_counts = True)"
   ]
  },
  {
   "cell_type": "code",
   "execution_count": 21,
   "metadata": {},
   "outputs": [
    {
     "name": "stdout",
     "output_type": "stream",
     "text": [
      "(10000, 2)\n",
      "(10000,)\n"
     ]
    },
    {
     "data": {
      "text/plain": [
       "1"
      ]
     },
     "execution_count": 21,
     "metadata": {},
     "output_type": "execute_result"
    }
   ],
   "source": [
    "X = data_default_dummies.drop(\"default_Yes\", axis = 1)\n",
    "y = data_default_dummies.default_Yes\n",
    "y = y.values\n",
    "log_reg = skl_lm.LogisticRegression(max_iter=1000,tol=0.000001)\n",
    "mod_log_reg = log_reg.fit(X,y)\n",
    "pred_prob = mod_log_reg.predict_proba(X)\n",
    "print(pred_prob.shape)"
   ]
  },
  {
   "cell_type": "code",
   "execution_count": 105,
   "metadata": {},
   "outputs": [
    {
     "name": "stderr",
     "output_type": "stream",
     "text": [
      "C:\\Users\\apoghosyan\\Anaconda3\\lib\\site-packages\\ipykernel_launcher.py:17: RuntimeWarning: invalid value encountered in longlong_scalars\n"
     ]
    }
   ],
   "source": [
    "probs = pred_prob[:,0]\n",
    "\n",
    "n = 10000\n",
    "N = len(y)\n",
    "pos = np.sum((y == 0))\n",
    "neg = np.sum((y == 1))\n",
    "h_list = np.linspace(0, 1, n) \n",
    "recall_list = np.array([])\n",
    "precision_list = np.array([]) \n",
    "fpr_list = np.array([])\n",
    "\n",
    "for h in h_list:\n",
    "    ind = (probs > h)\n",
    "    pred = np.repeat(1,N)\n",
    "    pred[ind] = 0\n",
    "    tn, fp, fn, tp = confusion_matrix(y_true = y, y_pred = pred, labels = np.array([1,0])).ravel()\n",
    "    precision_list = np.append(precision_list, tp/(tp+fp))\n",
    "    recall_list = np.append(recall_list, tp/pos) \n",
    "    fpr_list = np.append(fpr_list, fp/neg )\n",
    "\n",
    "    \n",
    "#print(\"Recall->\", recall_list)\n",
    "#print(\"Precision->\", precision_list)\n",
    "#print(\"FPR->\", fpr_list)\n",
    "    "
   ]
  },
  {
   "cell_type": "code",
   "execution_count": 106,
   "metadata": {
    "scrolled": false
   },
   "outputs": [
    {
     "data": {
      "image/png": "[encoded data removed]",
      "text/plain": [
       "<matplotlib.figure.Figure at 0x20dcfa6b550>"
      ]
     },
     "metadata": {},
     "output_type": "display_data"
    },
    {
     "name": "stdout",
     "output_type": "stream",
     "text": [
      "ROC-> 0.948754019355\n",
      "PR-> 0.998019849196\n"
     ]
    }
   ],
   "source": [
    "nan_ind = np.isnan(precision_list) \n",
    "precision_list[nan_ind] = 1\n",
    "\n",
    "plt.figure(figsize = (15,7))\n",
    "\n",
    "plt.subplot(1,2,1)\n",
    "plt.plot(fpr_list, recall_list)\n",
    "plt.xlabel(\"FPR\")\n",
    "plt.ylabel(\"Recall\")\n",
    "plt.plot(h_list,h_list)\n",
    "\n",
    "\n",
    "plt.subplot(1,2,2)\n",
    "plt.plot(recall_list, precision_list)\n",
    "plt.xlabel(\"Recall\")\n",
    "plt.ylabel(\"Precision\")\n",
    "plt.plot(h_list, -h_list + 1)\n",
    "\n",
    "plt.show()\n",
    "\n",
    "print(\"ROC->\", auc(fpr_list, recall_list))\n",
    "print(\"PR->\", auc(recall_list, precision_list))"
   ]
  },
  {
   "cell_type": "code",
   "execution_count": 97,
   "metadata": {
    "scrolled": false
   },
   "outputs": [],
   "source": [
    "nan_ind = np.isnan(precision_list) \n",
    "precision_list[nan_ind] = 1"
   ]
  },
  {
   "cell_type": "code",
   "execution_count": 110,
   "metadata": {},
   "outputs": [
    {
     "data": {
      "text/plain": [
       "0"
      ]
     },
     "execution_count": 110,
     "metadata": {},
     "output_type": "execute_result"
    }
   ],
   "source": [
    "np.sum(np.isnan(precision_list))"
   ]
  },
  {
   "cell_type": "code",
   "execution_count": null,
   "metadata": {
    "collapsed": true
   },
   "outputs": [],
   "source": []
  }
 ],
 "metadata": {
  "kernelspec": {
   "display_name": "Python 3",
   "language": "python",
   "name": "python3"
  },
  "language_info": {
   "codemirror_mode": {
    "name": "ipython",
    "version": 3
   },
   "file_extension": ".py",
   "mimetype": "text/x-python",
   "name": "python",
   "nbconvert_exporter": "python",
   "pygments_lexer": "ipython3",
   "version": "3.6.3"
  }
 },
 "nbformat": 4,
 "nbformat_minor": 2
}
