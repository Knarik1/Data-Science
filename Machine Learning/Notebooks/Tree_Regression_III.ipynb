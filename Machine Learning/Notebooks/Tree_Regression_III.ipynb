{
 "cells": [
  {
   "cell_type": "code",
   "execution_count": 2,
   "metadata": {},
   "outputs": [],
   "source": [
    "import numpy as np\n",
    "import pandas as pd\n",
    "from sklearn import tree\n",
    "import matplotlib.pyplot as plt\n",
    "from sklearn.metrics import accuracy_score\n",
    "from sklearn.metrics import precision_score\n",
    "from sklearn.metrics import recall_score\n",
    "from sklearn.metrics import confusion_matrix\n",
    "from sklearn.metrics import auc\n",
    "from sklearn.metrics import roc_curve\n",
    "from sklearn.metrics import precision_recall_curve\n",
    "from sklearn.model_selection import train_test_split\n",
    "from sklearn.model_selection import cross_val_score\n",
    "from sklearn.metrics import classification_report\n",
    "from sklearn.datasets import make_regression\n",
    "from sklearn.datasets import make_classification\n",
    "from sklearn.datasets import make_gaussian_quantiles\n",
    "from sklearn import ensemble\n",
    "from sklearn import svm"
   ]
  },
  {
   "cell_type": "code",
   "execution_count": 13,
   "metadata": {},
   "outputs": [
    {
     "name": "stdout",
     "output_type": "stream",
     "text": [
      "(100000, 17)\n",
      "(100000,)\n"
     ]
    }
   ],
   "source": [
    "X,Y = make_regression(n_samples = 100000, n_features = 17, \n",
    "                     n_informative = 10)\n",
    "print(X.shape)\n",
    "print(Y.shape)"
   ]
  },
  {
   "cell_type": "code",
   "execution_count": 15,
   "metadata": {},
   "outputs": [
    {
     "name": "stdout",
     "output_type": "stream",
     "text": [
      "(70000, 17)\n",
      "(70000,)\n"
     ]
    }
   ],
   "source": [
    "X_train, X_test, Y_train, Y_test = train_test_split(X,Y,test_size = 0.3)\n",
    "print(X_train.shape)\n",
    "print(Y_train.shape)"
   ]
  },
  {
   "cell_type": "code",
   "execution_count": null,
   "metadata": {
    "scrolled": true
   },
   "outputs": [],
   "source": [
    "score = np.array([])\n",
    "for j in np.arange(20) + 1:\n",
    "    mod_reg = ensemble.AdaBoostRegressor(tree.DecisionTreeRegressor(max_depth = j), \n",
    "                                         n_estimators = 500,\n",
    "                                        learning_rate = 1)\n",
    "    mod_cv = cross_val_score(mod_reg, np.array(X_train),np.array(Y_train).ravel(), \n",
    "                             cv = 5)\n",
    "    score = np.append(score, np.mean(mod_cv))\n",
    "    print(\"j->\", j, \"Mean->\", np.mean(mod_cv))\n",
    "param = np.argmax(score) + 1\n",
    "param"
   ]
  },
  {
   "cell_type": "code",
   "execution_count": 17,
   "metadata": {},
   "outputs": [
    {
     "name": "stdout",
     "output_type": "stream",
     "text": [
      "Error - >  0.9444606709090425\n"
     ]
    }
   ],
   "source": [
    "mod_reg_ada = ensemble.AdaBoostRegressor(tree.DecisionTreeRegressor(max_depth = 7), \n",
    "                                         n_estimators = 500)\n",
    "mod_reg_ada.fit(X_train,Y_train)\n",
    "error = mod_reg_ada.score(X_test,Y_test)\n",
    "print(\"Error - > \", error)"
   ]
  },
  {
   "cell_type": "code",
   "execution_count": 18,
   "metadata": {},
   "outputs": [
    {
     "name": "stdout",
     "output_type": "stream",
     "text": [
      "Error - >  1.0\n"
     ]
    }
   ],
   "source": [
    "mod_svm_linear = svm.LinearSVR(max_iter=10000)\n",
    "mod_svm_linear.fit(X_train,Y_train)\n",
    "error = mod_svm_linear.score(X_test,Y_test)\n",
    "print(\"Error - > \", error)"
   ]
  },
  {
   "cell_type": "code",
   "execution_count": 19,
   "metadata": {},
   "outputs": [
    {
     "name": "stderr",
     "output_type": "stream",
     "text": [
      "C:\\Users\\apoghosyan\\Anaconda3\\lib\\site-packages\\sklearn\\svm\\base.py:193: FutureWarning: The default value of gamma will change from 'auto' to 'scale' in version 0.22 to account better for unscaled features. Set gamma explicitly to 'auto' or 'scale' to avoid this warning.\n",
      "  \"avoid this warning.\", FutureWarning)\n"
     ]
    },
    {
     "name": "stdout",
     "output_type": "stream",
     "text": [
      "Error - >  0.9040972956241009\n"
     ]
    }
   ],
   "source": [
    "mod_svm_kernel = svm.SVR(kernel = \"poly\")\n",
    "mod_svm_kernel.fit(X_train,Y_train)\n",
    "error = mod_svm_kernel.score(X_test,Y_test)\n",
    "print(\"Error - > \", error)"
   ]
  },
  {
   "cell_type": "code",
   "execution_count": 20,
   "metadata": {},
   "outputs": [
    {
     "name": "stderr",
     "output_type": "stream",
     "text": [
      "C:\\Users\\apoghosyan\\Anaconda3\\lib\\site-packages\\sklearn\\svm\\base.py:193: FutureWarning: The default value of gamma will change from 'auto' to 'scale' in version 0.22 to account better for unscaled features. Set gamma explicitly to 'auto' or 'scale' to avoid this warning.\n",
      "  \"avoid this warning.\", FutureWarning)\n"
     ]
    },
    {
     "name": "stdout",
     "output_type": "stream",
     "text": [
      "Error - >  0.9344737940099771\n"
     ]
    }
   ],
   "source": [
    "mod_svm_kernel_radial = svm.SVR(kernel = \"rbf\")\n",
    "mod_svm_kernel_radial.fit(X_train,Y_train)\n",
    "error = mod_svm_kernel_radial.score(X_test,Y_test)\n",
    "print(\"Error - > \", error)"
   ]
  },
  {
   "cell_type": "code",
   "execution_count": 21,
   "metadata": {},
   "outputs": [
    {
     "name": "stderr",
     "output_type": "stream",
     "text": [
      "C:\\Users\\apoghosyan\\Anaconda3\\lib\\site-packages\\sklearn\\svm\\base.py:193: FutureWarning: The default value of gamma will change from 'auto' to 'scale' in version 0.22 to account better for unscaled features. Set gamma explicitly to 'auto' or 'scale' to avoid this warning.\n",
      "  \"avoid this warning.\", FutureWarning)\n"
     ]
    },
    {
     "name": "stdout",
     "output_type": "stream",
     "text": [
      "Error - >  0.9999999371722142\n"
     ]
    }
   ],
   "source": [
    "mod_svm_kernel = svm.SVR(kernel = \"poly\", degree = 1)\n",
    "mod_svm_kernel.fit(X_train,Y_train)\n",
    "error = mod_svm_kernel.score(X_test,Y_test)\n",
    "print(\"Error - > \", error)"
   ]
  },
  {
   "cell_type": "code",
   "execution_count": 5,
   "metadata": {},
   "outputs": [
    {
     "name": "stdout",
     "output_type": "stream",
     "text": [
      "j-> 2 Mean-> 0.3060315672629475\n",
      "j-> 3 Mean-> 0.4330071149237826\n",
      "j-> 4 Mean-> 0.5087633684921973\n",
      "j-> 5 Mean-> 0.5746463678577431\n",
      "j-> 6 Mean-> 0.6208626940922366\n",
      "j-> 7 Mean-> 0.6577701593097725\n",
      "j-> 8 Mean-> 0.6803351066111709\n",
      "j-> 9 Mean-> 0.6890366687627585\n",
      "j-> 10 Mean-> 0.6903037264739863\n",
      "j-> 11 Mean-> 0.6844734330783495\n",
      "j-> 12 Mean-> 0.6805060934001912\n",
      "j-> 13 Mean-> 0.6822974677504083\n",
      "j-> 14 Mean-> 0.6773162036658807\n",
      "j-> 15 Mean-> 0.6791496288367391\n",
      "j-> 16 Mean-> 0.6758152210073629\n",
      "j-> 17 Mean-> 0.6747377591965547\n",
      "j-> 18 Mean-> 0.6793207507401047\n",
      "j-> 19 Mean-> 0.6759411986469107\n",
      "j-> 20 Mean-> 0.6754774755249364\n",
      "j-> 21 Mean-> 0.677861914890484\n"
     ]
    },
    {
     "data": {
      "text/plain": [
       "10"
      ]
     },
     "execution_count": 5,
     "metadata": {},
     "output_type": "execute_result"
    }
   ],
   "source": [
    "score = np.array([])\n",
    "for j in np.arange(20) + 2:\n",
    "    mod_reg = tree.DecisionTreeRegressor(max_depth = j)\n",
    "    mod_cv = cross_val_score(mod_reg, X_train,Y_train,cv = 10)\n",
    "    score = np.append(score, np.mean(mod_cv))\n",
    "    print(\"j->\", j, \"Mean->\", np.mean(mod_cv))\n",
    "param = np.argmax(score) + 2\n",
    "param"
   ]
  },
  {
   "cell_type": "code",
   "execution_count": 6,
   "metadata": {},
   "outputs": [
    {
     "name": "stdout",
     "output_type": "stream",
     "text": [
      "10\n",
      "Error - >  0.6790592201554331\n"
     ]
    }
   ],
   "source": [
    "mod_reg = tree.DecisionTreeRegressor(max_depth = param)\n",
    "mod_reg_fit = mod_reg.fit(X_train,Y_train)\n",
    "error = mod_reg_fit.score(X_test,Y_test)\n",
    "print(param)\n",
    "print(\"Error - > \", error)\n",
    "\n",
    "#mod = tree.DecisionTreeRegressor(max_depth = 3)\n",
    "#mod.fit(X_train, Y_train)\n",
    "#plt.figure(figsize = (12,12))\n",
    "#tree.plot_tree(mod)\n",
    "#plt.show()  "
   ]
  },
  {
   "cell_type": "code",
   "execution_count": 7,
   "metadata": {},
   "outputs": [
    {
     "name": "stdout",
     "output_type": "stream",
     "text": [
      "j-> 2 Mean-> 0.906485316878061\n",
      "j-> 3 Mean-> 0.946893706797755\n",
      "j-> 4 Mean-> 0.9617755950416329\n",
      "j-> 5 Mean-> 0.9649848033002956\n",
      "j-> 6 Mean-> 0.9616373378504021\n",
      "j-> 7 Mean-> 0.9544234432418713\n",
      "j-> 8 Mean-> 0.9428223071031836\n",
      "j-> 9 Mean-> 0.9276288764771131\n"
     ]
    },
    {
     "data": {
      "text/plain": [
       "5"
      ]
     },
     "execution_count": 7,
     "metadata": {},
     "output_type": "execute_result"
    }
   ],
   "source": [
    "score = np.array([])\n",
    "for j in np.arange(8) + 2:\n",
    "    mod_reg = ensemble.GradientBoostingRegressor(max_depth = j)\n",
    "    mod_cv = cross_val_score(mod_reg, np.array(X_train),np.array(Y_train).ravel(), \n",
    "                             cv = 10)\n",
    "    score = np.append(score, np.mean(mod_cv))\n",
    "    print(\"j->\", j, \"Mean->\", np.mean(mod_cv))\n",
    "param = np.argmax(score) + 2\n",
    "param"
   ]
  },
  {
   "cell_type": "code",
   "execution_count": 9,
   "metadata": {},
   "outputs": [
    {
     "name": "stdout",
     "output_type": "stream",
     "text": [
      "5\n",
      "Error - >  0.9632307335205228\n"
     ]
    }
   ],
   "source": [
    "mod_reg_boost = ensemble.GradientBoostingRegressor(max_depth = param)\n",
    "mod_reg_boost_fit = mod_reg_boost.fit(X_train,Y_train)\n",
    "error = mod_reg_boost_fit.score(X_test,Y_test)\n",
    "print(param)\n",
    "print(\"Error - > \", error)"
   ]
  },
  {
   "cell_type": "code",
   "execution_count": 10,
   "metadata": {},
   "outputs": [
    {
     "name": "stdout",
     "output_type": "stream",
     "text": [
      "j-> 2 Mean-> 0.3557431687861642\n",
      "j-> 3 Mean-> 0.4819824815609988\n",
      "j-> 4 Mean-> 0.5766367737456766\n",
      "j-> 5 Mean-> 0.6536573015141931\n",
      "j-> 6 Mean-> 0.7149972391151658\n",
      "j-> 7 Mean-> 0.7642007536783327\n",
      "j-> 8 Mean-> 0.8010751477623241\n",
      "j-> 9 Mean-> 0.8269908161293751\n",
      "j-> 10 Mean-> 0.8468901028851821\n",
      "j-> 11 Mean-> 0.8601945452904965\n",
      "j-> 12 Mean-> 0.8681829247557168\n",
      "j-> 13 Mean-> 0.8727333157524315\n",
      "j-> 14 Mean-> 0.8750178168381391\n",
      "j-> 15 Mean-> 0.8770429345522445\n",
      "j-> 16 Mean-> 0.8790349866601426\n",
      "j-> 17 Mean-> 0.8789835077808406\n",
      "j-> 18 Mean-> 0.8783265876885981\n",
      "j-> 19 Mean-> 0.880373673906122\n",
      "j-> 20 Mean-> 0.8783595587986888\n",
      "j-> 21 Mean-> 0.8798657121616827\n"
     ]
    },
    {
     "data": {
      "text/plain": [
       "19"
      ]
     },
     "execution_count": 10,
     "metadata": {},
     "output_type": "execute_result"
    }
   ],
   "source": [
    "score = np.array([])\n",
    "for j in np.arange(20) + 2:\n",
    "    mod_reg = ensemble.RandomForestRegressor(max_depth = j,\n",
    "                                             max_features = 3,\n",
    "                                             n_estimators = 100)\n",
    "    mod_cv = cross_val_score(mod_reg, np.array(X_train),np.array(Y_train).ravel(), \n",
    "                             cv = 10)\n",
    "    score = np.append(score, np.mean(mod_cv))\n",
    "    print(\"j->\", j, \"Mean->\", np.mean(mod_cv))\n",
    "param = np.argmax(score) + 2\n",
    "param"
   ]
  },
  {
   "cell_type": "code",
   "execution_count": 17,
   "metadata": {},
   "outputs": [
    {
     "name": "stderr",
     "output_type": "stream",
     "text": [
      "C:\\Users\\apoghosyan\\Anaconda3\\lib\\site-packages\\sklearn\\ensemble\\forest.py:245: FutureWarning: The default value of n_estimators will change from 10 in version 0.20 to 100 in 0.22.\n",
      "  \"10 in version 0.20 to 100 in 0.22.\", FutureWarning)\n"
     ]
    },
    {
     "name": "stdout",
     "output_type": "stream",
     "text": [
      "19\n",
      "Error - >  0.8631274143154118\n"
     ]
    },
    {
     "name": "stderr",
     "output_type": "stream",
     "text": [
      "C:\\Users\\apoghosyan\\Anaconda3\\lib\\site-packages\\sklearn\\ensemble\\forest.py:737: UserWarning: Some inputs do not have OOB scores. This probably means too few trees were used to compute any reliable oob estimates.\n",
      "  warn(\"Some inputs do not have OOB scores. \"\n"
     ]
    }
   ],
   "source": [
    "mod_reg_rf = ensemble.RandomForestRegressor(max_depth = param, oob_score = True)\n",
    "mod_reg_rf_fit = mod_reg_rf.fit(X_train,Y_train)\n",
    "error = mod_reg_rf_fit.score(X_test,Y_test)\n",
    "print(param)\n",
    "print(\"Error - > \", error)"
   ]
  },
  {
   "cell_type": "code",
   "execution_count": 18,
   "metadata": {},
   "outputs": [
    {
     "data": {
      "text/plain": [
       "0.8037771073643435"
      ]
     },
     "execution_count": 18,
     "metadata": {},
     "output_type": "execute_result"
    }
   ],
   "source": [
    "mod_reg_rf.oob_score_"
   ]
  },
  {
   "cell_type": "code",
   "execution_count": 151,
   "metadata": {},
   "outputs": [
    {
     "name": "stdout",
     "output_type": "stream",
     "text": [
      "j-> 1 Mean-> 0.765886287625418\n",
      "j-> 2 Mean-> 0.9431438127090301\n",
      "j-> 3 Mean-> 0.9595317725752508\n",
      "j-> 4 Mean-> 0.934448160535117\n",
      "j-> 5 Mean-> 0.9123745819397993\n",
      "j-> 6 Mean-> 0.9200668896321069\n",
      "j-> 7 Mean-> 0.9441471571906355\n",
      "j-> 8 Mean-> 0.9200668896321069\n",
      "j-> 9 Mean-> 0.9277591973244146\n",
      "j-> 10 Mean-> 0.92876254180602\n",
      "j-> 11 Mean-> 0.9046822742474916\n",
      "j-> 12 Mean-> 0.9200668896321069\n",
      "j-> 13 Mean-> 0.9364548494983277\n",
      "j-> 14 Mean-> 0.9200668896321069\n",
      "j-> 15 Mean-> 0.9277591973244146\n",
      "j-> 16 Mean-> 0.9277591973244146\n",
      "j-> 17 Mean-> 0.92876254180602\n",
      "j-> 18 Mean-> 0.9277591973244146\n",
      "j-> 19 Mean-> 0.9046822742474916\n",
      "j-> 20 Mean-> 0.9133779264214047\n"
     ]
    },
    {
     "data": {
      "text/plain": [
       "3"
      ]
     },
     "execution_count": 151,
     "metadata": {},
     "output_type": "execute_result"
    }
   ],
   "source": [
    "score = np.array([])\n",
    "for j in np.arange(20) + 1:\n",
    "    mod_reg = ensemble.AdaBoostClassifier(tree.DecisionTreeClassifier(max_depth = j), \n",
    "                                         n_estimators = 500,\n",
    "                                        learning_rate = 1)\n",
    "    mod_cv = cross_val_score(mod_reg, np.array(X_train),np.array(Y_train).ravel(), \n",
    "                             cv = 5)\n",
    "    score = np.append(score, np.mean(mod_cv))\n",
    "    print(\"j->\", j, \"Mean->\", np.mean(mod_cv))\n",
    "param = np.argmax(score) + 1\n",
    "param"
   ]
  },
  {
   "cell_type": "code",
   "execution_count": 149,
   "metadata": {},
   "outputs": [
    {
     "name": "stderr",
     "output_type": "stream",
     "text": [
      "C:\\Users\\apoghosyan\\Anaconda3\\lib\\site-packages\\sklearn\\utils\\validation.py:724: DataConversionWarning: A column-vector y was passed when a 1d array was expected. Please change the shape of y to (n_samples, ), for example using ravel().\n",
      "  y = column_or_1d(y, warn=True)\n"
     ]
    },
    {
     "name": "stdout",
     "output_type": "stream",
     "text": [
      "2\n",
      "Error - >  0.9444444444444444\n"
     ]
    }
   ],
   "source": [
    "mod_reg_ada = ensemble.AdaBoostClassifier(tree.DecisionTreeClassifier(max_depth = param), \n",
    "                                         n_estimators = 200)\n",
    "mod_reg_ada_fit = mod_reg_ada.fit(X_train,Y_train)\n",
    "error = mod_reg_ada_fit.score(X_test,Y_test)\n",
    "print(param)\n",
    "print(\"Error - > \", error)"
   ]
  },
  {
   "cell_type": "code",
   "execution_count": null,
   "metadata": {},
   "outputs": [],
   "source": []
  }
 ],
 "metadata": {
  "kernelspec": {
   "display_name": "Python 3",
   "language": "python",
   "name": "python3"
  },
  "language_info": {
   "codemirror_mode": {
    "name": "ipython",
    "version": 3
   },
   "file_extension": ".py",
   "mimetype": "text/x-python",
   "name": "python",
   "nbconvert_exporter": "python",
   "pygments_lexer": "ipython3",
   "version": "3.7.3"
  }
 },
 "nbformat": 4,
 "nbformat_minor": 2
}
